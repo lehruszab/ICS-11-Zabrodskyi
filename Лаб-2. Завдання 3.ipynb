{
 "cells": [
  {
   "cell_type": "markdown",
   "metadata": {},
   "source": [
    "#  Лабораторна робота №2\n",
    "### практичне завдання 3 \n",
    "### Файлові операції в Python\n",
    "***"
   ]
  },
  {
   "cell_type": "markdown",
   "metadata": {},
   "source": [
    "[__Файлом__](https://www.google.com/url?sa=t&rct=j&q=&esrc=s&source=web&cd=&cad=rja&uact=8&ved=2ahUKEwi27JCGsdLsAhUqpIsKHXr7DUEQFjABegQIBxAC&url=https%3A%2F%2Fru.wikipedia.org%2Fwiki%2F%25D0%25A4%25D0%25B0%25D0%25B9%25D0%25BB&usg=AOvVaw0fNfsmGUYbdOzQf_LNWorC) називається будь-яка послідовність даних, яка знаходиться на зовнішньому носії та має унікальне ім'я.\n",
    "\n",
    "В ієрархічних файлових системах __ім'я__ файлу - це повний шлях до нього від кореня ієрархії. Шлях до файлу часто ассоціюють з його __адресою__.\n",
    "\n",
    "Windows: \n",
    "\n",
    "<pre>\n",
    "C:\\\n",
    "  |- Program Files\n",
    "  |      |- Python\n",
    "  |      |- Anaconda\n",
    "  |      | ...\n",
    "  |- Users\n",
    "  |   |- John\n",
    "  |   |   |- lab.py\n",
    "  |   |   |- file.txt\n",
    "  |   |   | ...\n",
    "  |   |- Bob\n",
    "  |...\n",
    "</pre>\n",
    "   \n",
    "Ім'я файлу - ```c:\\Users\\John\\file.txt```\n",
    "\n",
    "__Шлях__ до файла може бути\n",
    "- [абсолютним](https://ru.wikipedia.org/wiki/Путь_к_файлу)\n",
    "- [відносним](https://ru.wikipedia.org/wiki/Путь_к_файлу)\n",
    "\n"
   ]
  },
  {
   "cell_type": "markdown",
   "metadata": {},
   "source": [
    "### Операції з файлами"
   ]
  },
  {
   "cell_type": "code",
   "execution_count": 3,
   "metadata": {},
   "outputs": [],
   "source": [
    "!touch some_file.txt"
   ]
  },
  {
   "cell_type": "markdown",
   "metadata": {},
   "source": [
    "<p style=\"background-color:lightgreen; padding:10px\">\n",
    "    Щоб здійснювати операції з файлом його треба <b>відкрити</b>, тобто створити <b>об'єкт-посилання</b> на цей файл<br>Після завершення роботи з файлом його треба <b>закрити</b>   \n",
    "</p>\n",
    "\n",
    "```handler = open(<шлях до файла>,[<режим доступу>])\n",
    "...\n",
    "handler.close()\n",
    "```\n",
    "\n",
    "[Опис режимів доступу к файлу](https://pythonworld.ru/tipy-dannyx-v-python/fajly-rabota-s-fajlami.html)"
   ]
  },
  {
   "cell_type": "code",
   "execution_count": 5,
   "metadata": {},
   "outputs": [],
   "source": [
    "h = open(\"./some_file.txt\")"
   ]
  },
  {
   "cell_type": "code",
   "execution_count": 6,
   "metadata": {},
   "outputs": [
    {
     "name": "stdout",
     "output_type": "stream",
     "text": [
      "['_CHUNK_SIZE', '__class__', '__del__', '__delattr__', '__dict__', '__dir__', '__doc__', '__enter__', '__eq__', '__exit__', '__format__', '__ge__', '__getattribute__', '__gt__', '__hash__', '__init__', '__init_subclass__', '__iter__', '__le__', '__lt__', '__ne__', '__new__', '__next__', '__reduce__', '__reduce_ex__', '__repr__', '__setattr__', '__sizeof__', '__str__', '__subclasshook__', '_checkClosed', '_checkReadable', '_checkSeekable', '_checkWritable', '_finalizing', 'buffer', 'close', 'closed', 'detach', 'encoding', 'errors', 'fileno', 'flush', 'isatty', 'line_buffering', 'mode', 'name', 'newlines', 'read', 'readable', 'readline', 'readlines', 'reconfigure', 'seek', 'seekable', 'tell', 'truncate', 'writable', 'write', 'write_through', 'writelines']\n"
     ]
    }
   ],
   "source": [
    "print(dir(h))"
   ]
  },
  {
   "cell_type": "code",
   "execution_count": 7,
   "metadata": {},
   "outputs": [],
   "source": [
    "# після завершення роботи файл ТРЕБА закривати\n",
    "h.close()"
   ]
  },
  {
   "cell_type": "markdown",
   "metadata": {},
   "source": [
    "#### запис в файл"
   ]
  },
  {
   "cell_type": "code",
   "execution_count": 8,
   "metadata": {},
   "outputs": [],
   "source": [
    "# записати в файл строку `write`\n",
    "h = open(\"./some_file.txt\", 'w+')\n",
    "h.write(\"1-а строка\")\n",
    "h.close()"
   ]
  },
  {
   "cell_type": "code",
   "execution_count": 19,
   "metadata": {},
   "outputs": [
    {
     "name": "stdout",
     "output_type": "stream",
     "text": [
      "строка 1строка 2строка 3\n"
     ]
    }
   ],
   "source": [
    "!cat some_file.txt"
   ]
  },
  {
   "cell_type": "code",
   "execution_count": 35,
   "metadata": {},
   "outputs": [
    {
     "name": "stdout",
     "output_type": "stream",
     "text": [
      "1-й рядок\n",
      "2-й рядок\n",
      "3-й рядок\n",
      "4-й рядок\n",
      "5-й рядок\n",
      "6-й рядок\n",
      "7-й рядок\n",
      "8-й рядок\n",
      "9-й рядок\n",
      "10-й рядок\n"
     ]
    }
   ],
   "source": [
    "# ЗАВДАННЯ 1\n",
    "# використовуючи цикл 'for' записати в файл 'my_file.txt` 10 рядків:\n",
    "#   1-й рядок\n",
    "#   2-й рядок\n",
    "#   ...\n",
    "\n",
    "\n",
    "line = [1,2,3,4,5,6,7,8,9,10]\n",
    "!touch my_file.txt\n",
    "m = open(\"./my_file.txt\", 'w+')\n",
    "for x in line:\n",
    "    x=str(x)\n",
    "    m.write(x+\"-й рядок\"+'\\n')\n",
    "m.close()\n",
    "!cat my_file.txt"
   ]
  },
  {
   "cell_type": "code",
   "execution_count": 42,
   "metadata": {},
   "outputs": [],
   "source": [
    "# запис в файл з списка строк\n",
    "some_list = [\n",
    "    \"строка 1\",\n",
    "    \"строка 2\",\n",
    "    \"строка 3\"\n",
    "]\n",
    "\n",
    "h = open(\"./some_file.txt\", 'w+')\n",
    "h.writelines(some_list)\n",
    "h.close()"
   ]
  },
  {
   "cell_type": "code",
   "execution_count": 43,
   "metadata": {},
   "outputs": [
    {
     "name": "stdout",
     "output_type": "stream",
     "text": [
      "строка 1строка 2строка 3\n"
     ]
    }
   ],
   "source": [
    "!cat some_file.txt"
   ]
  },
  {
   "cell_type": "markdown",
   "metadata": {},
   "source": [
    "#### читання з файла"
   ]
  },
  {
   "cell_type": "code",
   "execution_count": 44,
   "metadata": {},
   "outputs": [],
   "source": [
    "h = open(\"./some_file.txt\", 'r')"
   ]
  },
  {
   "cell_type": "code",
   "execution_count": 45,
   "metadata": {},
   "outputs": [],
   "source": [
    "# read(), readlene(), readlines()"
   ]
  },
  {
   "cell_type": "code",
   "execution_count": 45,
   "metadata": {},
   "outputs": [
    {
     "data": {
      "text/plain": [
       "['1-й рядок\\n', '2-й рядок\\n', '3-й рядок\\n', '4-й рядок\\n', '5-й рядок\\n']"
      ]
     },
     "execution_count": 45,
     "metadata": {},
     "output_type": "execute_result"
    }
   ],
   "source": [
    "# ЗАВДАННЯ 2\n",
    "# прочитати та вивести перші 5 записів з файла `my_file.txt`\n",
    "# ...\n",
    "m = open(\"./my_file.txt\", 'r')\n",
    "m.readlines(40)\n"
   ]
  },
  {
   "cell_type": "markdown",
   "metadata": {},
   "source": [
    "### Контекстні менеджери Python\n",
    "\n",
    "__Контекстні менеджери__ призначені для створення тимчасового середовища для виконання опрерацій над деяким об'єктом\n",
    "\n",
    "для створення такого середовища використовується оператор \n",
    "\n",
    "```with <об'єкт> as <аліас>:\n",
    "       код\n",
    "```"
   ]
  },
  {
   "cell_type": "code",
   "execution_count": 25,
   "metadata": {},
   "outputs": [
    {
     "name": "stdout",
     "output_type": "stream",
     "text": [
      "['строка 1строка 2строка 3']\n"
     ]
    }
   ],
   "source": [
    "# прочитати файл 'some_file.txt'\n",
    "with open('./some_file.txt') as sf:\n",
    "    file_to_list = sf.readlines()\n",
    "    \n",
    "print(file_to_list)"
   ]
  },
  {
   "cell_type": "code",
   "execution_count": 48,
   "metadata": {},
   "outputs": [
    {
     "name": "stdout",
     "output_type": "stream",
     "text": [
      "['1-й рядок\\n', '2-й рядок\\n', '3-й рядок\\n', '4-й рядок\\n', '5-й рядок\\n']\n"
     ]
    }
   ],
   "source": [
    "# ЗАВДАННЯ 3\n",
    "# виконати Завдання 2 з допомогою менеджера контента\n",
    "# ...\n",
    "\n",
    "with open('./my_file.txt') as mf:\n",
    "    mfr = mf.readlines(40)\n",
    "\n",
    "print(mfr)"
   ]
  },
  {
   "cell_type": "code",
   "execution_count": null,
   "metadata": {},
   "outputs": [],
   "source": []
  }
 ],
 "metadata": {
  "kernelspec": {
   "display_name": "Python 3",
   "language": "python",
   "name": "python3"
  },
  "language_info": {
   "codemirror_mode": {
    "name": "ipython",
    "version": 3
   },
   "file_extension": ".py",
   "mimetype": "text/x-python",
   "name": "python",
   "nbconvert_exporter": "python",
   "pygments_lexer": "ipython3",
   "version": "3.8.3"
  }
 },
 "nbformat": 4,
 "nbformat_minor": 2
}
